{
 "cells": [
  {
   "cell_type": "code",
   "execution_count": null,
   "id": "8436fe31-1e4b-43ee-8340-b894feba2438",
   "metadata": {},
   "outputs": [],
   "source": [
    "!pip uninstall numpy\n",
    "!pip install numpy --upgrade"
   ]
  },
  {
   "cell_type": "code",
   "execution_count": null,
   "id": "bf73750f-2c7b-4f03-abc6-afc2e87de128",
   "metadata": {},
   "outputs": [],
   "source": [
    "import pandas as pd\n",
    "import numpy as np\n",
    "import seaborn as sns\n",
    "import matplotlib.pyplot as plt"
   ]
  },
  {
   "cell_type": "code",
   "execution_count": null,
   "id": "686d02ff-7214-48ad-a8d7-bff9823d2661",
   "metadata": {},
   "outputs": [],
   "source": [
    "from sklearn.model_selection import train_test_split\n",
    "from sklearn.preprocessing import StandardScaler\n",
    "from xgboost import XGBClassifier\n",
    "from sklearn.metrics import classification_report, confusion_matrix, roc_auc_score\n",
    "import shap\n",
    "import warnings\n",
    "warnings.filterwarnings(\"ignore\")"
   ]
  },
  {
   "cell_type": "code",
   "execution_count": null,
   "id": "e86fbde3-7668-4891-b1c9-0230b7acb0c4",
   "metadata": {},
   "outputs": [],
   "source": [
    "data_df=pd.read_csv(r\"C:\\Users\\jayan\\Downloads\\Heart disease predictor\\Data\\Heart_disease_cleveland_new.csv\")\n",
    "data_df.head()"
   ]
  },
  {
   "cell_type": "code",
   "execution_count": null,
   "id": "977e3d1b-b9be-4348-be49-b8cf9e360608",
   "metadata": {},
   "outputs": [],
   "source": [
    "data_df.info()"
   ]
  },
  {
   "cell_type": "code",
   "execution_count": null,
   "id": "946b863e-e1d2-4229-a465-70aea8c2b338",
   "metadata": {},
   "outputs": [],
   "source": [
    "data_df.describe()"
   ]
  },
  {
   "cell_type": "code",
   "execution_count": null,
   "id": "743906c4-e987-47b3-aec8-5696b208b96a",
   "metadata": {},
   "outputs": [],
   "source": [
    "data_df.isnull().sum()"
   ]
  },
  {
   "cell_type": "code",
   "execution_count": null,
   "id": "868bfe29-b104-492e-a872-b07c0cef5439",
   "metadata": {},
   "outputs": [],
   "source": [
    "sns.countplot(data=data_df, x='target')\n",
    "plt.title(\"Heart Disease Distribution\")\n",
    "plt.show()"
   ]
  },
  {
   "cell_type": "code",
   "execution_count": null,
   "id": "7ee86d13-0ca0-49c9-a81a-c44ca3a75e6f",
   "metadata": {},
   "outputs": [],
   "source": [
    "X = data_df.drop('target', axis=1)\n",
    "y = data_df['target']"
   ]
  },
  {
   "cell_type": "code",
   "execution_count": null,
   "id": "54dc1a8c-7b0d-4425-813a-46bb6921c0c2",
   "metadata": {},
   "outputs": [],
   "source": [
    "X_train, X_test, y_train, y_test = train_test_split(\n",
    "    X, y, test_size=0.2, random_state=42, stratify=y\n",
    ")"
   ]
  },
  {
   "cell_type": "code",
   "execution_count": null,
   "id": "8d3f0c1b-d032-4c4c-a78c-8c91b754e7b9",
   "metadata": {},
   "outputs": [],
   "source": [
    "scaler = StandardScaler()\n",
    "X_train_scaled = scaler.fit_transform(X_train)\n",
    "X_test_scaled = scaler.transform(X_test)"
   ]
  },
  {
   "cell_type": "code",
   "execution_count": null,
   "id": "156e5724-a57f-4179-8c81-8752e31a9066",
   "metadata": {},
   "outputs": [],
   "source": [
    "feature_names = X.columns"
   ]
  },
  {
   "cell_type": "code",
   "execution_count": null,
   "id": "46ae55ac-0630-4953-bce6-e1ca723bf34c",
   "metadata": {},
   "outputs": [],
   "source": [
    "model = XGBClassifier(use_label_encoder=False, eval_metric='logloss', random_state=42)\n",
    "model.fit(X_train_scaled, y_train)"
   ]
  },
  {
   "cell_type": "code",
   "execution_count": null,
   "id": "e7c2a9bd-0c42-482c-8822-731cc0b16705",
   "metadata": {},
   "outputs": [],
   "source": [
    "import joblib\n",
    "joblib.dump(model, r'C:\\Users\\jayan\\Downloads\\Heart disease predictor\\Models\\xgb_heart_model.pkl')"
   ]
  },
  {
   "cell_type": "code",
   "execution_count": null,
   "id": "b2fbd562-291b-47b0-98c1-3a19ab961665",
   "metadata": {},
   "outputs": [],
   "source": [
    "y_pred = model.predict(X_test_scaled)\n",
    "\n",
    "print(\"Classification Report:\\n\", classification_report(y_test, y_pred))\n",
    "print(\"Confusion Matrix:\\n\", confusion_matrix(y_test, y_pred))\n",
    "print(\"AUC Score:\", roc_auc_score(y_test, y_pred))"
   ]
  },
  {
   "cell_type": "code",
   "execution_count": null,
   "id": "25c11dbd-b553-4f87-bdd4-bc8c958ff861",
   "metadata": {},
   "outputs": [],
   "source": [
    "# Initialize SHAP\n",
    "explainer = shap.Explainer(model, X_train_scaled)\n",
    "shap_values = explainer(X_test_scaled)\n",
    "\n",
    "# Summary plot\n",
    "shap.summary_plot(shap_values, X_test_scaled, feature_names=feature_names)\n",
    "\n",
    "# Feature importance bar plot\n",
    "shap.plots.bar(shap_values)\n",
    "\n",
    "# Individual prediction explanation\n",
    "shap.plots.waterfall(shap_values[0])"
   ]
  }
 ],
 "metadata": {
  "kernelspec": {
   "display_name": "Python [conda env:base] *",
   "language": "python",
   "name": "conda-base-py"
  },
  "language_info": {
   "codemirror_mode": {
    "name": "ipython",
    "version": 3
   },
   "file_extension": ".py",
   "mimetype": "text/x-python",
   "name": "python",
   "nbconvert_exporter": "python",
   "pygments_lexer": "ipython3",
   "version": "3.9.21"
  }
 },
 "nbformat": 4,
 "nbformat_minor": 5
}
